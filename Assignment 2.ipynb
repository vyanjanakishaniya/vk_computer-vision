{
 "cells": [
  {
   "cell_type": "code",
   "execution_count": 24,
   "id": "dbc2c37f",
   "metadata": {},
   "outputs": [],
   "source": [
    "import numpy as np\n",
    "from copy import deepcopy\n",
    "import math\n",
    "from PIL import Image\n",
    "from PIL.ImageShow import show\n",
    "import cv2\n"
   ]
  },
  {
   "cell_type": "code",
   "execution_count": 25,
   "id": "ef557f20",
   "metadata": {},
   "outputs": [],
   "source": [
    "input_image = np.array(Image.open('images-CV/building.png'))\n",
    "gaussian_kernel = np.array([[1, 4, 7, 4, 1],\n",
    "                  [4, 16, 26, 16, 4],\n",
    "                  [7, 26, 41, 26, 7],\n",
    "                  [4, 16, 26, 16, 4],\n",
    "                  [1, 4, 7, 4, 1]]) *(1/273)\n",
    "\n",
    "\n",
    "\n",
    "gaussian_smooting = np.zeros(input_image.shape)\n",
    "no_of_rows, no_of_columns = input_image.shape\n",
    "no_of_k_rows, no_of_k_columns = gaussian_kernel.shape\n",
    "padding_height, padding_width = (no_of_k_rows//2)*2, (no_of_k_columns//2)*2\n",
    "padded_image = np.zeros((no_of_rows + padding_height, no_of_columns + padding_width))\n",
    "padded_image[(padding_height//2):padded_image.shape[0] - (padding_height//2),\n",
    "            (padding_width//2):padded_image.shape[1] - (padding_width//2)] = input_image\n",
    "for i in range(no_of_rows):\n",
    "    for j in range(no_of_columns):\n",
    "        gaussian_smooting[i, j] = np.sum(\n",
    "            gaussian_kernel*padded_image[i:i+no_of_k_rows, j:j+no_of_k_columns])\n",
    "\n",
    "\n",
    "Kx = np.array([[-1, 0, 1], [-2, 0, 2], [-1, 0, 1]])\n",
    "Ky = np.array([[-1, -2, -1], [0, 0, 0], [1, 2, 1]])\n",
    "\n",
    "Sx = np.zeros(input_image.shape)\n",
    "no_of_rows, no_of_columns = input_image.shape\n",
    "no_of_k_rows, no_of_k_columns = Kx.shape\n",
    "padding_height, padding_width = (no_of_k_rows//2)*2, (no_of_k_columns//2)*2\n",
    "padded_image = np.zeros((no_of_rows + padding_height, no_of_columns + padding_width))\n",
    "padded_image[(padding_height//2):padded_image.shape[0] - (padding_height//2),\n",
    "            (padding_width//2):padded_image.shape[1] - (padding_width//2)] = input_image\n",
    "for i in range(no_of_rows):\n",
    "    for j in range(no_of_columns):\n",
    "        Sx[i, j] = np.sum(\n",
    "            Kx*padded_image[i:i+no_of_k_rows, j:j+no_of_k_columns])\n",
    "\n",
    "\n",
    "Sy = np.zeros(input_image.shape)\n",
    "no_of_rows, no_of_columns = input_image.shape\n",
    "no_of_k_rows, no_of_k_columns = Ky.shape\n",
    "padding_height, padding_width = (no_of_k_rows//2)*2, (no_of_k_columns//2)*2\n",
    "padded_image = np.zeros((no_of_rows + padding_height, no_of_columns + padding_width))\n",
    "padded_image[(padding_height//2):padded_image.shape[0] - (padding_height//2),\n",
    "            (padding_width//2):padded_image.shape[1] - (padding_width//2)] = input_image\n",
    "for i in range(no_of_rows):\n",
    "    for j in range(no_of_columns):\n",
    "        Sy[i, j] = np.sum(\n",
    "            Ky*padded_image[i:i+no_of_k_rows, j:j+no_of_k_columns])\n",
    "\n",
    "\n",
    "sobel_image = np.hypot(Sx, Sy)\n",
    "sobel_image = sobel_image / sobel_image.max() * 255\n",
    "im = Image.fromarray(sobel_image.astype(np.uint8))\n",
    "im.save(\"task-a-output.jpg\")"
   ]
  },
  {
   "cell_type": "code",
   "execution_count": 26,
   "id": "4ca65cb1",
   "metadata": {},
   "outputs": [],
   "source": [
    "imageA = np.array(Image.open('images-CV/ImageA.png'))\n",
    "imageB = cv2.GaussianBlur(imageA,(25,25),cv2.BORDER_DEFAULT)\n",
    "imageC = np.array(Image.open('images-CV/ImageC.png'))\n",
    "imageD = imageC - cv2.GaussianBlur(imageC,(25,25),cv2.BORDER_DEFAULT)\n",
    "hybridImage = np.zeros(imageD.shape)\n",
    "for i in range(hybridImage.shape[0]):\n",
    "    for j in range(hybridImage.shape[1]):\n",
    "        hybridImage[i][j] = imageB[i][j] + imageD[i][j]\n",
    "\n",
    "im = Image.fromarray(hybridImage.astype(np.uint8))\n",
    "rgb_im = im.convert('RGB')\n",
    "rgb_im.save(\"task-b-output.jpg\")"
   ]
  },
  {
   "cell_type": "code",
   "execution_count": null,
   "id": "77c7b648",
   "metadata": {},
   "outputs": [],
   "source": []
  }
 ],
 "metadata": {
  "kernelspec": {
   "display_name": "Python 3 (ipykernel)",
   "language": "python",
   "name": "python3"
  },
  "language_info": {
   "codemirror_mode": {
    "name": "ipython",
    "version": 3
   },
   "file_extension": ".py",
   "mimetype": "text/x-python",
   "name": "python",
   "nbconvert_exporter": "python",
   "pygments_lexer": "ipython3",
   "version": "3.9.12"
  }
 },
 "nbformat": 4,
 "nbformat_minor": 5
}
